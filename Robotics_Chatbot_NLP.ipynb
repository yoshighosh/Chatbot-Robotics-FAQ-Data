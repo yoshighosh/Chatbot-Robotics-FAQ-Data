{
  "nbformat": 4,
  "nbformat_minor": 0,
  "metadata": {
    "colab": {
      "name": "Robotics Chatbot NLP.ipynb",
      "provenance": [],
      "authorship_tag": "ABX9TyMM+Gtp5PF0jzdk6PerdprE",
      "include_colab_link": true
    },
    "kernelspec": {
      "name": "python3",
      "display_name": "Python 3"
    },
    "language_info": {
      "name": "python"
    }
  },
  "cells": [
    {
      "cell_type": "markdown",
      "metadata": {
        "id": "view-in-github",
        "colab_type": "text"
      },
      "source": [
        "<a href=\"https://colab.research.google.com/github/yoshighosh/Chatbot-Robotics-FAQ-Data/blob/main/Robotics_Chatbot_NLP.ipynb\" target=\"_parent\"><img src=\"https://colab.research.google.com/assets/colab-badge.svg\" alt=\"Open In Colab\"/></a>"
      ]
    },
    {
      "cell_type": "markdown",
      "metadata": {
        "id": "DoKGiqlSvlu8"
      },
      "source": [
        "# Setting Up Connection with other Google Drive files"
      ]
    },
    {
      "cell_type": "code",
      "metadata": {
        "id": "bYI-HbDKvk89"
      },
      "source": [
        "from google.colab import auth\n",
        "auth.authenticate_user()\n",
        "import gspread\n",
        "from oauth2client.client import GoogleCredentials\n",
        "gc = gspread.authorize(GoogleCredentials.get_application_default())"
      ],
      "execution_count": 1,
      "outputs": []
    },
    {
      "cell_type": "markdown",
      "metadata": {
        "id": "5FIjy7SE5HpO"
      },
      "source": [
        "# Loading in Google Sheet"
      ]
    },
    {
      "cell_type": "code",
      "metadata": {
        "id": "EX3FnU6xvuDA"
      },
      "source": [
        "wb = gc.open_by_url('https://docs.google.com/spreadsheets/d/1cVAI3aslb7adn6lUV_cg9JeGAzLzWzoOjQvTY9vtnwI/edit?usp=sharing')\n",
        "sheet = wb.worksheet('Sheet1')\n",
        "data = sheet.get_all_values()\n",
        "\n",
        "#print(data)"
      ],
      "execution_count": 2,
      "outputs": []
    },
    {
      "cell_type": "code",
      "metadata": {
        "id": "nNukfOnChMh2"
      },
      "source": [
        "import pandas as pd\n",
        "import matplotlib.pyplot as plt"
      ],
      "execution_count": 4,
      "outputs": []
    },
    {
      "cell_type": "code",
      "metadata": {
        "id": "tmb8m39z5R_9",
        "colab": {
          "base_uri": "https://localhost:8080/",
          "height": 204
        },
        "outputId": "13c42892-805e-4316-a48d-0bfa0185bccc"
      },
      "source": [
        "df = pd.DataFrame(data)\n",
        "df.columns = df.iloc[0]\n",
        "df = df.iloc[1:]\n",
        "\n",
        "df.head()"
      ],
      "execution_count": 6,
      "outputs": [
        {
          "output_type": "execute_result",
          "data": {
            "text/html": [
              "<div>\n",
              "<style scoped>\n",
              "    .dataframe tbody tr th:only-of-type {\n",
              "        vertical-align: middle;\n",
              "    }\n",
              "\n",
              "    .dataframe tbody tr th {\n",
              "        vertical-align: top;\n",
              "    }\n",
              "\n",
              "    .dataframe thead th {\n",
              "        text-align: right;\n",
              "    }\n",
              "</style>\n",
              "<table border=\"1\" class=\"dataframe\">\n",
              "  <thead>\n",
              "    <tr style=\"text-align: right;\">\n",
              "      <th></th>\n",
              "      <th>ID</th>\n",
              "      <th>Header</th>\n",
              "      <th>Question</th>\n",
              "      <th>Answer</th>\n",
              "    </tr>\n",
              "  </thead>\n",
              "  <tbody>\n",
              "    <tr>\n",
              "      <th>1</th>\n",
              "      <td>1</td>\n",
              "      <td>Innovation Challenge</td>\n",
              "      <td>(section 4.2), states \"identify a problem or o...</td>\n",
              "      <td>Section 4.2 of the At Home Challenges Manual -...</td>\n",
              "    </tr>\n",
              "    <tr>\n",
              "      <th>2</th>\n",
              "      <td>2</td>\n",
              "      <td>Power Port Challenge and Reintroduction Zone</td>\n",
              "      <td>In the Power Port Challenge, does the robot ne...</td>\n",
              "      <td>Yes, Rule PPC6 which requires that humans \"onl...</td>\n",
              "    </tr>\n",
              "    <tr>\n",
              "      <th>3</th>\n",
              "      <td>3</td>\n",
              "      <td>PPC1 3 Ball Limit</td>\n",
              "      <td>For the Power Port Challenge, we would like cl...</td>\n",
              "      <td>Per PPC1, teams may not use more than three (3...</td>\n",
              "    </tr>\n",
              "    <tr>\n",
              "      <th>4</th>\n",
              "      <td>4</td>\n",
              "      <td>Multiple Challenge Spaces</td>\n",
              "      <td>Does the same physical space need to be used a...</td>\n",
              "      <td>There is no requirement that the same Challeng...</td>\n",
              "    </tr>\n",
              "    <tr>\n",
              "      <th>5</th>\n",
              "      <td>5</td>\n",
              "      <td>Does the same robot need to be used for the Ju...</td>\n",
              "      <td>I can see two scenarios where a team may want ...</td>\n",
              "      <td>There are no rules requiring the use of the sa...</td>\n",
              "    </tr>\n",
              "  </tbody>\n",
              "</table>\n",
              "</div>"
            ],
            "text/plain": [
              "0 ID  ...                                             Answer\n",
              "1  1  ...  Section 4.2 of the At Home Challenges Manual -...\n",
              "2  2  ...  Yes, Rule PPC6 which requires that humans \"onl...\n",
              "3  3  ...  Per PPC1, teams may not use more than three (3...\n",
              "4  4  ...  There is no requirement that the same Challeng...\n",
              "5  5  ...  There are no rules requiring the use of the sa...\n",
              "\n",
              "[5 rows x 4 columns]"
            ]
          },
          "metadata": {
            "tags": []
          },
          "execution_count": 6
        }
      ]
    }
  ]
}